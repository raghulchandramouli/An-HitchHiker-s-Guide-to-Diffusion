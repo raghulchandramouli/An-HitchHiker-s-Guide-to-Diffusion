{
 "cells": [
  {
   "cell_type": "markdown",
   "id": "421a488b",
   "metadata": {},
   "source": [
    "### Diffusion Models from Scratch\n",
    "\n",
    "We're going to try that in this notebook, beginning with a `toy` diffusion model to see how the different pieces work, and see out the implementation.\n",
    "\n",
    "**We will look at building**\n",
    "\n",
    "- The corruption process\n",
    "- What a UNet is, and how to implement an extremely minimal one from scartch\n",
    "- Diffusion Model Training\n",
    "- Sampling Theory"
   ]
  },
  {
   "cell_type": "markdown",
   "id": "36ddfdc5",
   "metadata": {},
   "source": [
    "#### Setup and Imports:"
   ]
  },
  {
   "cell_type": "code",
   "execution_count": 7,
   "id": "72e59e85",
   "metadata": {},
   "outputs": [],
   "source": [
    "import torch\n",
    "import torchvision\n",
    "from torch import nn\n",
    "from torch.nn import functional as F\n",
    "from torch.utils.data import DataLoader\n",
    "from diffusers import DDPMScheduler, UNet2DModel\n",
    "from matplotlib import pyplot as plt\n"
   ]
  },
  {
   "cell_type": "markdown",
   "id": "a0b8e23f",
   "metadata": {},
   "source": []
  }
 ],
 "metadata": {
  "kernelspec": {
   "display_name": "diffusionGuide",
   "language": "python",
   "name": "python3"
  },
  "language_info": {
   "codemirror_mode": {
    "name": "ipython",
    "version": 3
   },
   "file_extension": ".py",
   "mimetype": "text/x-python",
   "name": "python",
   "nbconvert_exporter": "python",
   "pygments_lexer": "ipython3",
   "version": "3.11.0"
  }
 },
 "nbformat": 4,
 "nbformat_minor": 5
}
